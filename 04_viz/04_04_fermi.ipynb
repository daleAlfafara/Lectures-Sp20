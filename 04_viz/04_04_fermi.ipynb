{
 "cells": [
  {
   "cell_type": "markdown",
   "metadata": {
    "slideshow": {
     "slide_type": "slide"
    }
   },
   "source": [
    "# Data Intuition (Cont'd)\n",
    "\n",
    "Putting it all together:\n",
    "- pandas\n",
    "- data wrangling\n",
    "- data intuition\n",
    "- descriptive statistics\n",
    "- wisdom of the crowds\n",
    "\n",
    "We'll use your responses to the Fermi estimation Google Form to do this."
   ]
  },
  {
   "cell_type": "markdown",
   "metadata": {
    "slideshow": {
     "slide_type": "slide"
    }
   },
   "source": [
    "## Setup"
   ]
  },
  {
   "cell_type": "code",
   "execution_count": null,
   "metadata": {
    "slideshow": {
     "slide_type": "-"
    }
   },
   "outputs": [],
   "source": [
    "# import working with data libraries\n",
    "import pandas as pd\n",
    "import numpy as np"
   ]
  },
  {
   "cell_type": "markdown",
   "metadata": {
    "slideshow": {
     "slide_type": "slide"
    }
   },
   "source": [
    "## The Data"
   ]
  },
  {
   "cell_type": "code",
   "execution_count": null,
   "metadata": {
    "slideshow": {
     "slide_type": "-"
    }
   },
   "outputs": [],
   "source": [
    "# read data into Python\n",
    "df = pd.read_csv('data/fermi_sp20.csv')"
   ]
  },
  {
   "cell_type": "code",
   "execution_count": null,
   "metadata": {
    "scrolled": false,
    "slideshow": {
     "slide_type": "fragment"
    }
   },
   "outputs": [],
   "source": [
    "# take a look at the data\n",
    "df"
   ]
  },
  {
   "cell_type": "markdown",
   "metadata": {
    "slideshow": {
     "slide_type": "slide"
    }
   },
   "source": [
    "## Data Cleaning & Wrangling\n",
    "\n",
    "Tidy Data Rules (Review):\n",
    "1. Every observation in a row\n",
    "2. Every variable in a column\n",
    "3. If multiple tables, column on which to merge"
   ]
  },
  {
   "cell_type": "markdown",
   "metadata": {
    "slideshow": {
     "slide_type": "slide"
    }
   },
   "source": [
    "### iClicker Question #1\n",
    "\n",
    "Are these data in the tidy data format?\n",
    "\n",
    "- A) Yes, these data are ready to analyze\n",
    "- B) Yes, but there is more work to do before analysis\n",
    "- C) No, not tidy\n",
    "- D) Have no idea what you're talking about"
   ]
  },
  {
   "cell_type": "markdown",
   "metadata": {
    "slideshow": {
     "slide_type": "slide"
    }
   },
   "source": [
    "## Brainstorming\n",
    "\n",
    "What considerations do we have to make about these data?\n",
    "\n",
    "- handling non-numeric answers (i.e. \"lots\")\n",
    "- handle units in answer\n",
    "- unreasonably large/small number (outliers)? (not thoughtful, or joking)\n",
    "- scientific notation"
   ]
  },
  {
   "cell_type": "code",
   "execution_count": null,
   "metadata": {
    "scrolled": true,
    "slideshow": {
     "slide_type": "slide"
    }
   },
   "outputs": [],
   "source": [
    "# change column names\n",
    "df.columns = ['timestamp', 'hair_growth', 'crammed', 'SAN_NYC']\n",
    "df.head()"
   ]
  },
  {
   "cell_type": "code",
   "execution_count": null,
   "metadata": {
    "scrolled": true,
    "slideshow": {
     "slide_type": "slide"
    }
   },
   "outputs": [],
   "source": [
    "# check type of each Series (column)\n",
    "df.dtypes"
   ]
  },
  {
   "cell_type": "code",
   "execution_count": null,
   "metadata": {
    "scrolled": true,
    "slideshow": {
     "slide_type": "slide"
    }
   },
   "outputs": [],
   "source": [
    "# this cell will produce an error\n",
    "df['hair_growth'].median()"
   ]
  },
  {
   "cell_type": "markdown",
   "metadata": {
    "slideshow": {
     "slide_type": "slide"
    }
   },
   "source": [
    "## Cleaning: Hair Growth\n",
    "\n",
    "How fast does human hair grow (cm/yr)?"
   ]
  },
  {
   "cell_type": "code",
   "execution_count": null,
   "metadata": {
    "slideshow": {
     "slide_type": "fragment"
    }
   },
   "outputs": [],
   "source": [
    "# take a look at unique values\n",
    "df[\"hair_growth\"].unique()"
   ]
  },
  {
   "cell_type": "code",
   "execution_count": null,
   "metadata": {
    "slideshow": {
     "slide_type": "fragment"
    }
   },
   "outputs": [],
   "source": [
    "# standardize height column\n",
    "def standardize_hair(string):\n",
    "    \n",
    "    output = None\n",
    "    \n",
    "    # Basic string pre-processing\n",
    "    string = string.lower()\n",
    "    string = string.strip()\n",
    "\n",
    "    # take care of unique cases\n",
    "    string = string.replace(\"~3 inches, so 7.62 cm\", \"7.62\")\n",
    "    string = string.replace(\"2.0 x 10^-1 m\", \"20\")\n",
    "    string = string.replace(\"10^1.2\", \"15.8\")\n",
    "    string = string.replace(\"10^(1.2)\", \"15.8\")\n",
    "    string = string.replace(\"0.5 in/month\", \"6\")\n",
    "    \n",
    "    # remove commas\n",
    "    string = string.replace(\",\", \"\")\n",
    "    \n",
    "    # take care of inclded unit cases\n",
    "    string = string.replace(\"cm/ye\", \"\")\n",
    "    string = string.replace(\"a ye\", \"\")\n",
    "    string = string.replace(\"cm/yr\", \"\")\n",
    "    string = string.replace(\"yr\", \"\")\n",
    "    string = string.replace(\"cm\", \"\")    \n",
    "    string = string.replace(\"/\", \"\")\n",
    "    string = string.replace(\"ar\", \"\")\n",
    "    string = string.replace(\"per ye\", \"\")\n",
    "\n",
    "\n",
    "    # handle scientific notation\n",
    "    string = string.replace(\"^2\", \"0\")\n",
    "    string = string.replace(\"^1\", \"\")\n",
    "    string = string.replace(\"10^(-2)\", \"0.1\")\n",
    "    string = string.replace(\"10^-2\", \"0.1\")\n",
    "\n",
    "    string = string.strip()\n",
    "\n",
    "    # convert to numeric\n",
    "    output = float(string)\n",
    "    \n",
    "    return output"
   ]
  },
  {
   "cell_type": "code",
   "execution_count": null,
   "metadata": {
    "slideshow": {
     "slide_type": "fragment"
    }
   },
   "outputs": [],
   "source": [
    "# apply function across values in hair growth columns\n",
    "df[\"hair_growth\"] = df[\"hair_growth\"].apply(standardize_hair)\n",
    "df[\"hair_growth\"].unique()"
   ]
  },
  {
   "cell_type": "code",
   "execution_count": null,
   "metadata": {
    "scrolled": true,
    "slideshow": {
     "slide_type": "fragment"
    }
   },
   "outputs": [],
   "source": [
    "df['hair_growth'].describe()"
   ]
  },
  {
   "cell_type": "code",
   "execution_count": null,
   "metadata": {
    "slideshow": {
     "slide_type": "fragment"
    }
   },
   "outputs": [],
   "source": [
    "# compare to actual value: 15 cm/year (~6 in)\n",
    "df[\"hair_growth\"].median()"
   ]
  },
  {
   "cell_type": "markdown",
   "metadata": {
    "slideshow": {
     "slide_type": "slide"
    }
   },
   "source": [
    "## Cleaning: Crammed\n",
    "\n",
    "If every living person stood crammed together side-by-side, how large of an area would they occupy (km²)?"
   ]
  },
  {
   "cell_type": "code",
   "execution_count": null,
   "metadata": {
    "scrolled": false,
    "slideshow": {
     "slide_type": "fragment"
    }
   },
   "outputs": [],
   "source": [
    "df['crammed'].unique()"
   ]
  },
  {
   "cell_type": "code",
   "execution_count": null,
   "metadata": {
    "slideshow": {
     "slide_type": "fragment"
    }
   },
   "outputs": [],
   "source": [
    "# standardize crammed column\n",
    "def standardize_crammed(string):\n",
    "    \n",
    "    orig = string\n",
    "    output = None\n",
    "    \n",
    "    # Basic string pre-processing\n",
    "    string = string.lower()\n",
    "    string = string.strip()\n",
    "    \n",
    "    # take care of commas\n",
    "    string = string.replace(\",\", \"\")\n",
    "\n",
    "    # take care of inclded unit cases\n",
    "    string = string.replace(\"(km^2)\", \"\")\n",
    "    string = string.replace(\"km^2\", \"\")\n",
    "    string = string.replace(\"km2\", \"\")\n",
    "    string = string.replace(\"km²\", \"\")\n",
    "    string = string.replace(\"km\", \"\")\n",
    "    string = string.replace(\"squared\", \"\")\n",
    "    string = string.replace(\"sq\", \"\")\n",
    "    \n",
    "    # take care of various scientific notation cases\n",
    "    string = string.replace(\"3.2*10^11\", \"320000000000\")\n",
    "    string = string.replace(\"3.0 x 10 ^9\", \"3000000000\")\n",
    "    string = string.replace(\"(10^8 - 10^3) =\", \"\")\n",
    "    string = string.replace(\"3*10^6\", \"3000000\")\n",
    "    string = string.replace(\"7m\", \"7000000\")\n",
    "    string = string.replace(\"7*(10^3)\", \"7000\")\n",
    "    string = string.replace(\"10^(3.5)\", \"3162\")\n",
    "    string = string.replace(\"4 × 10^6\", \"3162\")\n",
    "\n",
    "\n",
    "    # take care of general scientific notation\n",
    "    string = string.replace(\"8x10^8\", \"800000000\")\n",
    "    string = string.replace(\"x10^2\", \"00\")\n",
    "    string = string.replace(\"*(10^3)\", \"000\")\n",
    "\n",
    "    string = string.replace(\"10^3\", \"1000\")\n",
    "    string = string.replace(\"10^4\", \"10000\")\n",
    "    string = string.replace(\"10^5\", \"100000\")\n",
    "    string = string.replace(\" × 10^6\", \"000000\")\n",
    "    string = string.replace(\"10^6\", \"1000000\")\n",
    "    string = string.replace(\"*10^7\", \"0000000\")\n",
    "    string = string.replace(\"10^7\", \"10000000\")\n",
    "    string = string.replace(\"*10^8\", \"100000000\")\n",
    "    string = string.replace(\"10^8\", \"100000000\")\n",
    "    string = string.replace(\" x 10^9\", \"000000000\")\n",
    "    string = string.replace(\"x 10^9\", \"000000000\")\n",
    "\n",
    "    string = string.replace(\"10^9\", \"1000000000\")\n",
    "    string = string.replace(\"10^10\", \"1000000000\")\n",
    "    string = string.replace(\"10^11\", \"00000000000\")\n",
    "    string = string.replace(\"10^15\", \"1000000000000000\")\n",
    "    string = string.replace(\" x 10^9\", \"000000000\")\n",
    "    string = string.replace(\"10x1000000\", \"10000000\")\n",
    "\n",
    "    \n",
    "    # take care of unique word cases\n",
    "    string = string.replace(\" million\", \"000000\")\n",
    "    string = string.replace(\"australia\", \"7692024\")\n",
    "    string = string.replace(\" billion\", \"000000000\")\n",
    "    string = string.replace(\"3 earths\", \"510072000\")\n",
    "\n",
    "    # take care of case with space in middle\n",
    "    string = string.replace(\"100 000\", \"100000\")\n",
    "\n",
    "\n",
    "    # convert to numeric\n",
    "    output = float(string)\n",
    "    \n",
    "    return output"
   ]
  },
  {
   "cell_type": "code",
   "execution_count": null,
   "metadata": {
    "scrolled": true,
    "slideshow": {
     "slide_type": "fragment"
    }
   },
   "outputs": [],
   "source": [
    "# apply function across values in crammed columns\n",
    "df[\"crammed\"] = df[\"crammed\"].apply(standardize_crammed)\n",
    "df[\"crammed\"].unique()"
   ]
  },
  {
   "cell_type": "code",
   "execution_count": null,
   "metadata": {
    "scrolled": false,
    "slideshow": {
     "slide_type": "fragment"
    }
   },
   "outputs": [],
   "source": [
    "df.dtypes"
   ]
  },
  {
   "cell_type": "code",
   "execution_count": null,
   "metadata": {
    "slideshow": {
     "slide_type": "fragment"
    }
   },
   "outputs": [],
   "source": [
    "# compare to actual value: 1,000-10,000 km^2)\n",
    "df['crammed'].median()"
   ]
  },
  {
   "cell_type": "markdown",
   "metadata": {
    "slideshow": {
     "slide_type": "slide"
    }
   },
   "source": [
    "## Cleaning: San Diego to NYC\n",
    "\n",
    "How many days would it take to walk from here to New York City (assuming no stopping to fix shoes, apply sunscreen, or for sleeping, eating, or other biological needs)?"
   ]
  },
  {
   "cell_type": "code",
   "execution_count": null,
   "metadata": {
    "scrolled": false,
    "slideshow": {
     "slide_type": "fragment"
    }
   },
   "outputs": [],
   "source": [
    "df['SAN_NYC'].unique()"
   ]
  },
  {
   "cell_type": "code",
   "execution_count": null,
   "metadata": {
    "slideshow": {
     "slide_type": "fragment"
    }
   },
   "outputs": [],
   "source": [
    "# standardize distance column\n",
    "def standardize_distance(string):\n",
    "    \n",
    "    orig = string\n",
    "    output = None\n",
    "    \n",
    "    # Basic string pre-processing\n",
    "    string = string.lower()\n",
    "    string = string.strip()\n",
    "    \n",
    "    # take care of special/unclear cases\n",
    "    string = string.replace(\"10^2 (not actually 100 but close to half)\", \"NaN\")\n",
    "    string = string.replace(\"lots\", \"NaN\")\n",
    "    \n",
    "    # remove units\n",
    "    string = string.replace(\"days\", \"\")\n",
    "    \n",
    "\n",
    "    # take care of non-days answers\n",
    "    string = string.replace(\"1month\", \"30\")\n",
    "    string = string.replace(\"1 month\", \"30\")\n",
    "    string = string.replace(\"one month\", \"30\")\n",
    "    string = string.replace(\"3 months\", \"90\")\n",
    "    string = string.replace(\"3 month\", \"90\")\n",
    "    string = string.replace(\"4 months\", \"120\")\n",
    "    string = string.replace(\"6 months\", \"180\")\n",
    "    string = string.replace(\"1 year\", \"365\")\n",
    "    string = string.replace(\"500 hrs\", \"21\")\n",
    "    string = string.replace(\"650 hours\", \"27\")\n",
    "    string = string.replace(\"750 hours\", \"31\")\n",
    "    string = string.replace(\"900 hours\", \"38\")\n",
    "    \n",
    "    # take care of 'punctuation'\n",
    "    string = string.replace(\"~\", \"\")\n",
    "    string = string.replace(\",\", \"\")\n",
    "    \n",
    "    # take care of scientific notation \n",
    "    string = string.replace(\"10^2\", \"100\")\n",
    "    string = string.replace(\"10^3\", \"1000\")\n",
    "    string = string.replace(\"10^4\", \"10000\")\n",
    "    string = string.replace(\"10^9\", \"1000000000\")\n",
    "    string = string.replace(\"10^(2.5)\", \"316\")\n",
    "\n",
    "   \n",
    "    \n",
    "    string = string.strip()\n",
    "\n",
    "    # convert to numeric\n",
    "    output = float(string)\n",
    "    \n",
    "    return output"
   ]
  },
  {
   "cell_type": "code",
   "execution_count": null,
   "metadata": {
    "scrolled": true,
    "slideshow": {
     "slide_type": "fragment"
    }
   },
   "outputs": [],
   "source": [
    "# apply function across values in crammed columns\n",
    "df[\"SAN_NYC\"] = df[\"SAN_NYC\"].apply(standardize_distance)\n",
    "df[\"SAN_NYC\"].unique()"
   ]
  },
  {
   "cell_type": "code",
   "execution_count": null,
   "metadata": {
    "scrolled": true,
    "slideshow": {
     "slide_type": "fragment"
    }
   },
   "outputs": [],
   "source": [
    "# compare to actual value: 38 days)\n",
    "df['SAN_NYC'].median()"
   ]
  },
  {
   "cell_type": "markdown",
   "metadata": {
    "slideshow": {
     "slide_type": "slide"
    }
   },
   "source": [
    "## Take Home Messages\n",
    "\n",
    "1. Look at your data! (People behave unexpectedly.)\n",
    "2. Get your data into a tidy data format.\n",
    "3. Fix (Standardize) your data - or, better yet, collect better data!\n",
    "4. Use your intuition/knowledge/information out there to consider if values make sense."
   ]
  }
 ],
 "metadata": {
  "celltoolbar": "Slideshow",
  "kernelspec": {
   "display_name": "Python 3",
   "language": "python",
   "name": "python3"
  },
  "language_info": {
   "codemirror_mode": {
    "name": "ipython",
    "version": 3
   },
   "file_extension": ".py",
   "mimetype": "text/x-python",
   "name": "python",
   "nbconvert_exporter": "python",
   "pygments_lexer": "ipython3",
   "version": "3.7.0"
  },
  "rise": {
   "scroll": true
  }
 },
 "nbformat": 4,
 "nbformat_minor": 2
}
